{
 "cells": [
  {
   "cell_type": "markdown",
   "metadata": {},
   "source": [
    "# atomman demonstration\n",
    "\n",
    "This Notebook provides a demonstration of many of the features of atomman as we go through the process of constructing a periodic array of dislocations atomic configuration.\n",
    "\n",
    "\n",
    "Before using, you will need:\n",
    "\n",
    "- atomman installed for Python (from conda-forge or pip)\n",
    "- A LAMMPS executable\n",
    "- The MPI command for running LAMMPS in parallel (optional)\n"
   ]
  },
  {
   "cell_type": "code",
   "execution_count": 1,
   "metadata": {},
   "outputs": [],
   "source": [
    "from IPython.display import display, HTML\n",
    "\n",
    "import matplotlib.pyplot as plt\n",
    "\n",
    "# http://www.numpy.org/\n",
    "import numpy as np\n",
    "\n",
    "# https://github.com/usnistgov/atomman\n",
    "import atomman.unitconvert as uc\n",
    "import atomman.lammps as lmp\n",
    "import atomman as am"
   ]
  },
  {
   "cell_type": "markdown",
   "metadata": {},
   "source": [
    "## Specify LAMMPS and MPI commands\n",
    "\n",
    "- lammps_command is the LAMMPS executable you want to use\n",
    "- mpi_command is the MPI executable and options you want to use with LAMMPS. Setting as None will run LAMMPS serially."
   ]
  },
  {
   "cell_type": "code",
   "execution_count": 2,
   "metadata": {},
   "outputs": [],
   "source": [
    "lammps_command = 'lmp_mpi'\n",
    "\n",
    "#mpi_command = None # Serial run\n",
    "mpi_command = 'C:/Program Files/MPICH2/bin/mpiexec -localonly 6'"
   ]
  },
  {
   "cell_type": "markdown",
   "metadata": {},
   "source": [
    "## Load LAMMPS potential from database"
   ]
  },
  {
   "cell_type": "code",
   "execution_count": 3,
   "metadata": {},
   "outputs": [
    {
     "name": "stdout",
     "output_type": "stream",
     "text": [
      "Loaded 276 local LAMMPS potentials\n",
      "Loaded 276 remote LAMMPS potentials\n",
      " - 0 new\n"
     ]
    }
   ],
   "source": [
    "db = am.library.Database(load='lammps_potentials', verbose=True)"
   ]
  },
  {
   "cell_type": "code",
   "execution_count": 4,
   "metadata": {},
   "outputs": [
    {
     "data": {
      "text/html": [
       "<div>\n",
       "<style scoped>\n",
       "    .dataframe tbody tr th:only-of-type {\n",
       "        vertical-align: middle;\n",
       "    }\n",
       "\n",
       "    .dataframe tbody tr th {\n",
       "        vertical-align: top;\n",
       "    }\n",
       "\n",
       "    .dataframe thead th {\n",
       "        text-align: right;\n",
       "    }\n",
       "</style>\n",
       "<table border=\"1\" class=\"dataframe\">\n",
       "  <thead>\n",
       "    <tr style=\"text-align: right;\">\n",
       "      <th></th>\n",
       "      <th>id</th>\n",
       "      <th>key</th>\n",
       "      <th>potid</th>\n",
       "      <th>potkey</th>\n",
       "      <th>units</th>\n",
       "      <th>atom_style</th>\n",
       "      <th>allsymbols</th>\n",
       "      <th>pair_style</th>\n",
       "      <th>status</th>\n",
       "      <th>symbols</th>\n",
       "      <th>elements</th>\n",
       "      <th>masses</th>\n",
       "      <th>charges</th>\n",
       "    </tr>\n",
       "  </thead>\n",
       "  <tbody>\n",
       "    <tr>\n",
       "      <td>0</td>\n",
       "      <td>1985--Foiles-S-M--Ni-Cu--LAMMPS--ipr1</td>\n",
       "      <td>062d2ba7-3903-40ae-a772-daa471d107c6</td>\n",
       "      <td>1985--Foiles-S-M--Ni-Cu</td>\n",
       "      <td>301f04ce-9082-4542-8590-489300cd19e8</td>\n",
       "      <td>metal</td>\n",
       "      <td>atomic</td>\n",
       "      <td>False</td>\n",
       "      <td>eam</td>\n",
       "      <td>active</td>\n",
       "      <td>[Cu, Ni]</td>\n",
       "      <td>[Cu, Ni]</td>\n",
       "      <td>[63.55, 58.71]</td>\n",
       "      <td>[0.0, 0.0]</td>\n",
       "    </tr>\n",
       "    <tr>\n",
       "      <td>1</td>\n",
       "      <td>1985--Stillinger-F-H--Si--LAMMPS--ipr1</td>\n",
       "      <td>d085648c-b3ef-4be8-824b-7093fd22770a</td>\n",
       "      <td>1985--Stillinger-F-H-Weber-T-A--Si</td>\n",
       "      <td>edc31ad6-2b9a-455c-9b5f-e888a672ecbd</td>\n",
       "      <td>metal</td>\n",
       "      <td>atomic</td>\n",
       "      <td>False</td>\n",
       "      <td>sw</td>\n",
       "      <td>active</td>\n",
       "      <td>[Si]</td>\n",
       "      <td>[Si]</td>\n",
       "      <td>[28.085]</td>\n",
       "      <td>[0.0]</td>\n",
       "    </tr>\n",
       "    <tr>\n",
       "      <td>2</td>\n",
       "      <td>1986--Foiles-S-M--Ag--LAMMPS--ipr1</td>\n",
       "      <td>76a265fc-45ff-49d7-8c64-2044f12402f2</td>\n",
       "      <td>1986--Foiles-S-M-Baskes-M-I-Daw-M-S--Ag</td>\n",
       "      <td>672d54f8-9f48-4200-af56-8a7378ebbc4a</td>\n",
       "      <td>metal</td>\n",
       "      <td>atomic</td>\n",
       "      <td>False</td>\n",
       "      <td>eam</td>\n",
       "      <td>active</td>\n",
       "      <td>[Ag]</td>\n",
       "      <td>[Ag]</td>\n",
       "      <td>[107.87]</td>\n",
       "      <td>[0.0]</td>\n",
       "    </tr>\n",
       "    <tr>\n",
       "      <td>3</td>\n",
       "      <td>1986--Foiles-S-M--Ag-Au-Cu-Ni-Pd-Pt--LAMMPS--ipr1</td>\n",
       "      <td>c5afa7e8-6b3b-49cd-ad1c-ae3e4329363a</td>\n",
       "      <td>1986--Foiles-S-M-Baskes-M-I-Daw-M-S--Ag-Au-Cu-...</td>\n",
       "      <td>7a1302de-59cf-4efb-900e-cad845b68ee5</td>\n",
       "      <td>metal</td>\n",
       "      <td>atomic</td>\n",
       "      <td>False</td>\n",
       "      <td>eam</td>\n",
       "      <td>active</td>\n",
       "      <td>[Ag, Au, Cu, Ni, Pd, Pt]</td>\n",
       "      <td>[Ag, Au, Cu, Ni, Pd, Pt]</td>\n",
       "      <td>[107.87, 196.97, 63.55, 58.71, 106.4, 195.09]</td>\n",
       "      <td>[0.0, 0.0, 0.0, 0.0, 0.0, 0.0]</td>\n",
       "    </tr>\n",
       "    <tr>\n",
       "      <td>4</td>\n",
       "      <td>1986--Foiles-S-M--Au--LAMMPS--ipr1</td>\n",
       "      <td>c588810a-b96d-4871-bfe2-cff8a5a7c709</td>\n",
       "      <td>1986--Foiles-S-M-Baskes-M-I-Daw-M-S--Au</td>\n",
       "      <td>ffb66faa-319d-4556-8363-dad3959cd553</td>\n",
       "      <td>metal</td>\n",
       "      <td>atomic</td>\n",
       "      <td>False</td>\n",
       "      <td>eam</td>\n",
       "      <td>active</td>\n",
       "      <td>[Au]</td>\n",
       "      <td>[Au]</td>\n",
       "      <td>[196.97]</td>\n",
       "      <td>[0.0]</td>\n",
       "    </tr>\n",
       "    <tr>\n",
       "      <td>...</td>\n",
       "      <td>...</td>\n",
       "      <td>...</td>\n",
       "      <td>...</td>\n",
       "      <td>...</td>\n",
       "      <td>...</td>\n",
       "      <td>...</td>\n",
       "      <td>...</td>\n",
       "      <td>...</td>\n",
       "      <td>...</td>\n",
       "      <td>...</td>\n",
       "      <td>...</td>\n",
       "      <td>...</td>\n",
       "      <td>...</td>\n",
       "    </tr>\n",
       "    <tr>\n",
       "      <td>271</td>\n",
       "      <td>2019--Duan-X--Ta-He--LAMMPS--ipr1</td>\n",
       "      <td>d6608123-3432-453e-ab94-b55822e7df12</td>\n",
       "      <td>2019--Duan-X-Xie-F-Guo-X-et-al--Ta-He</td>\n",
       "      <td>278faa04-d121-4744-875d-e085f0b0e5da</td>\n",
       "      <td>metal</td>\n",
       "      <td>atomic</td>\n",
       "      <td>True</td>\n",
       "      <td>hybrid</td>\n",
       "      <td>active</td>\n",
       "      <td>[Ta, He]</td>\n",
       "      <td>[Ta, He]</td>\n",
       "      <td>[180.94788, 4.002602]</td>\n",
       "      <td>[0.0, 0.0]</td>\n",
       "    </tr>\n",
       "    <tr>\n",
       "      <td>272</td>\n",
       "      <td>2019--Mendelev-M-I--Cu-Zr--LAMMPS--ipr1</td>\n",
       "      <td>73d03486-1b34-4a24-b1d2-4da253abdda0</td>\n",
       "      <td>2019--Mendelev-M-I--Cu-Zr</td>\n",
       "      <td>2e5ed18c-5fb4-46e4-ae7a-5f50d9429d95</td>\n",
       "      <td>metal</td>\n",
       "      <td>atomic</td>\n",
       "      <td>False</td>\n",
       "      <td>eam/fs</td>\n",
       "      <td>active</td>\n",
       "      <td>[Cu, Zr]</td>\n",
       "      <td>[Cu, Zr]</td>\n",
       "      <td>[63.546, 91.224]</td>\n",
       "      <td>[0.0, 0.0]</td>\n",
       "    </tr>\n",
       "    <tr>\n",
       "      <td>273</td>\n",
       "      <td>2019--Mendelev-M-I--Fe-Ni-Cr--LAMMPS--ipr1</td>\n",
       "      <td>43aa1b40-dce4-48cf-8e4f-fb0e079180b6</td>\n",
       "      <td>2019--Mendelev-M-I--Fe-Ni-Cr</td>\n",
       "      <td>6c5d342a-7e25-467f-a234-d937301f6bc4</td>\n",
       "      <td>metal</td>\n",
       "      <td>atomic</td>\n",
       "      <td>False</td>\n",
       "      <td>eam/fs</td>\n",
       "      <td>active</td>\n",
       "      <td>[Fe, Ni, Cr]</td>\n",
       "      <td>[Fe, Ni, Cr]</td>\n",
       "      <td>[55.845, 58.6934, 51.9961]</td>\n",
       "      <td>[0.0, 0.0, 0.0]</td>\n",
       "    </tr>\n",
       "    <tr>\n",
       "      <td>274</td>\n",
       "      <td>2020--Byggmastar-J--Fe--LAMMPS--ipr1</td>\n",
       "      <td>a1d123a0-eba2-4271-962c-720d9d564a9b</td>\n",
       "      <td>2020--Byggmastar-J-Granberg-F--Fe</td>\n",
       "      <td>114b0f72-8f6d-4ac1-82fb-ac15fd6b7bde</td>\n",
       "      <td>metal</td>\n",
       "      <td>atomic</td>\n",
       "      <td>False</td>\n",
       "      <td>tersoff/zbl</td>\n",
       "      <td>active</td>\n",
       "      <td>[Fe]</td>\n",
       "      <td>[Fe]</td>\n",
       "      <td>[55.845]</td>\n",
       "      <td>[0.0]</td>\n",
       "    </tr>\n",
       "    <tr>\n",
       "      <td>275</td>\n",
       "      <td>2020--Starikov-S--Si-Au-Al--LAMMPS--ipr1</td>\n",
       "      <td>6ea50417-2147-4d53-871c-0a289656f794</td>\n",
       "      <td>2020--Starikov-S-Gordeev-I-Lysogorskiy-Y-et-al...</td>\n",
       "      <td>e5d06433-937f-4deb-916a-531f6cbb9ed6</td>\n",
       "      <td>metal</td>\n",
       "      <td>atomic</td>\n",
       "      <td>False</td>\n",
       "      <td>adp</td>\n",
       "      <td>active</td>\n",
       "      <td>[Si, Au, Al]</td>\n",
       "      <td>[Si, Au, Al]</td>\n",
       "      <td>[28.084, 196.967, 26.98]</td>\n",
       "      <td>[0.0, 0.0, 0.0]</td>\n",
       "    </tr>\n",
       "  </tbody>\n",
       "</table>\n",
       "<p>276 rows × 13 columns</p>\n",
       "</div>"
      ],
      "text/plain": [
       "                                                    id  \\\n",
       "0                1985--Foiles-S-M--Ni-Cu--LAMMPS--ipr1   \n",
       "1               1985--Stillinger-F-H--Si--LAMMPS--ipr1   \n",
       "2                   1986--Foiles-S-M--Ag--LAMMPS--ipr1   \n",
       "3    1986--Foiles-S-M--Ag-Au-Cu-Ni-Pd-Pt--LAMMPS--ipr1   \n",
       "4                   1986--Foiles-S-M--Au--LAMMPS--ipr1   \n",
       "..                                                 ...   \n",
       "271                  2019--Duan-X--Ta-He--LAMMPS--ipr1   \n",
       "272            2019--Mendelev-M-I--Cu-Zr--LAMMPS--ipr1   \n",
       "273         2019--Mendelev-M-I--Fe-Ni-Cr--LAMMPS--ipr1   \n",
       "274               2020--Byggmastar-J--Fe--LAMMPS--ipr1   \n",
       "275           2020--Starikov-S--Si-Au-Al--LAMMPS--ipr1   \n",
       "\n",
       "                                      key  \\\n",
       "0    062d2ba7-3903-40ae-a772-daa471d107c6   \n",
       "1    d085648c-b3ef-4be8-824b-7093fd22770a   \n",
       "2    76a265fc-45ff-49d7-8c64-2044f12402f2   \n",
       "3    c5afa7e8-6b3b-49cd-ad1c-ae3e4329363a   \n",
       "4    c588810a-b96d-4871-bfe2-cff8a5a7c709   \n",
       "..                                    ...   \n",
       "271  d6608123-3432-453e-ab94-b55822e7df12   \n",
       "272  73d03486-1b34-4a24-b1d2-4da253abdda0   \n",
       "273  43aa1b40-dce4-48cf-8e4f-fb0e079180b6   \n",
       "274  a1d123a0-eba2-4271-962c-720d9d564a9b   \n",
       "275  6ea50417-2147-4d53-871c-0a289656f794   \n",
       "\n",
       "                                                 potid  \\\n",
       "0                              1985--Foiles-S-M--Ni-Cu   \n",
       "1                   1985--Stillinger-F-H-Weber-T-A--Si   \n",
       "2              1986--Foiles-S-M-Baskes-M-I-Daw-M-S--Ag   \n",
       "3    1986--Foiles-S-M-Baskes-M-I-Daw-M-S--Ag-Au-Cu-...   \n",
       "4              1986--Foiles-S-M-Baskes-M-I-Daw-M-S--Au   \n",
       "..                                                 ...   \n",
       "271              2019--Duan-X-Xie-F-Guo-X-et-al--Ta-He   \n",
       "272                          2019--Mendelev-M-I--Cu-Zr   \n",
       "273                       2019--Mendelev-M-I--Fe-Ni-Cr   \n",
       "274                  2020--Byggmastar-J-Granberg-F--Fe   \n",
       "275  2020--Starikov-S-Gordeev-I-Lysogorskiy-Y-et-al...   \n",
       "\n",
       "                                   potkey  units atom_style  allsymbols  \\\n",
       "0    301f04ce-9082-4542-8590-489300cd19e8  metal     atomic       False   \n",
       "1    edc31ad6-2b9a-455c-9b5f-e888a672ecbd  metal     atomic       False   \n",
       "2    672d54f8-9f48-4200-af56-8a7378ebbc4a  metal     atomic       False   \n",
       "3    7a1302de-59cf-4efb-900e-cad845b68ee5  metal     atomic       False   \n",
       "4    ffb66faa-319d-4556-8363-dad3959cd553  metal     atomic       False   \n",
       "..                                    ...    ...        ...         ...   \n",
       "271  278faa04-d121-4744-875d-e085f0b0e5da  metal     atomic        True   \n",
       "272  2e5ed18c-5fb4-46e4-ae7a-5f50d9429d95  metal     atomic       False   \n",
       "273  6c5d342a-7e25-467f-a234-d937301f6bc4  metal     atomic       False   \n",
       "274  114b0f72-8f6d-4ac1-82fb-ac15fd6b7bde  metal     atomic       False   \n",
       "275  e5d06433-937f-4deb-916a-531f6cbb9ed6  metal     atomic       False   \n",
       "\n",
       "      pair_style  status                   symbols                  elements  \\\n",
       "0            eam  active                  [Cu, Ni]                  [Cu, Ni]   \n",
       "1             sw  active                      [Si]                      [Si]   \n",
       "2            eam  active                      [Ag]                      [Ag]   \n",
       "3            eam  active  [Ag, Au, Cu, Ni, Pd, Pt]  [Ag, Au, Cu, Ni, Pd, Pt]   \n",
       "4            eam  active                      [Au]                      [Au]   \n",
       "..           ...     ...                       ...                       ...   \n",
       "271       hybrid  active                  [Ta, He]                  [Ta, He]   \n",
       "272       eam/fs  active                  [Cu, Zr]                  [Cu, Zr]   \n",
       "273       eam/fs  active              [Fe, Ni, Cr]              [Fe, Ni, Cr]   \n",
       "274  tersoff/zbl  active                      [Fe]                      [Fe]   \n",
       "275          adp  active              [Si, Au, Al]              [Si, Au, Al]   \n",
       "\n",
       "                                            masses  \\\n",
       "0                                   [63.55, 58.71]   \n",
       "1                                         [28.085]   \n",
       "2                                         [107.87]   \n",
       "3    [107.87, 196.97, 63.55, 58.71, 106.4, 195.09]   \n",
       "4                                         [196.97]   \n",
       "..                                             ...   \n",
       "271                          [180.94788, 4.002602]   \n",
       "272                               [63.546, 91.224]   \n",
       "273                     [55.845, 58.6934, 51.9961]   \n",
       "274                                       [55.845]   \n",
       "275                       [28.084, 196.967, 26.98]   \n",
       "\n",
       "                            charges  \n",
       "0                        [0.0, 0.0]  \n",
       "1                             [0.0]  \n",
       "2                             [0.0]  \n",
       "3    [0.0, 0.0, 0.0, 0.0, 0.0, 0.0]  \n",
       "4                             [0.0]  \n",
       "..                              ...  \n",
       "271                      [0.0, 0.0]  \n",
       "272                      [0.0, 0.0]  \n",
       "273                 [0.0, 0.0, 0.0]  \n",
       "274                           [0.0]  \n",
       "275                 [0.0, 0.0, 0.0]  \n",
       "\n",
       "[276 rows x 13 columns]"
      ]
     },
     "execution_count": 4,
     "metadata": {},
     "output_type": "execute_result"
    }
   ],
   "source": [
    "db.lammps_potentials_df"
   ]
  },
  {
   "cell_type": "markdown",
   "metadata": {},
   "source": [
    "Parse for potentials with Ag"
   ]
  },
  {
   "cell_type": "code",
   "execution_count": 5,
   "metadata": {},
   "outputs": [
    {
     "name": "stdout",
     "output_type": "stream",
     "text": [
      "0 1986--Foiles-S-M--Ag--LAMMPS--ipr1\n",
      "1 1986--Foiles-S-M--Ag-Au-Cu-Ni-Pd-Pt--LAMMPS--ipr1\n",
      "2 1987--Ackland-G-J--Ag--LAMMPS--ipr1\n",
      "3 1987--Ackland-G-J--Ag--LAMMPS--ipr2\n",
      "4 1989--Adams-J-B--Ag--LAMMPS--ipr1\n",
      "5 1989--Adams-J-B--Ag-Au-Cu-Ni-Pd-Pt--LAMMPS--ipr1\n",
      "6 2004--Zhou-X-W--Ag--LAMMPS--ipr2\n",
      "7 2004--Zhou-X-W--Cu-Ag-Au--LAMMPS--ipr2\n",
      "8 2006--Williams-P-L--Ag--LAMMPS--ipr1\n",
      "9 2006--Williams-P-L--Cu-Ag--LAMMPS--ipr1\n",
      "10 2009--Wu-H-H--Cu-Ag--LAMMPS--ipr1\n",
      "11 2013--Gao-H--AgTaO3--LAMMPS--ipr2\n",
      "12 2013--Hale-L-M--Pd-Ag-H-Hybrid--LAMMPS--ipr1\n",
      "13 2013--Hale-L-M--Pd-Ag-H-Morse--LAMMPS--ipr1\n",
      "14 2018--Pan-Z--Ag-Ni--LAMMPS--ipr1\n"
     ]
    }
   ],
   "source": [
    "def hassymbol(series, symbol):\n",
    "    return symbol in series.symbols\n",
    "\n",
    "pot_ids = db.lammps_potentials_df[db.lammps_potentials_df.apply(hassymbol, args=['Ag'], axis=1)].id.tolist()\n",
    "\n",
    "for i, pot_id in enumerate(pot_ids):\n",
    "    print(i, pot_id)"
   ]
  },
  {
   "cell_type": "markdown",
   "metadata": {},
   "source": [
    "Select a potential and check LAMMPS input commands. Note: get_files=True will copy/download parameter files to the working directory."
   ]
  },
  {
   "cell_type": "code",
   "execution_count": 6,
   "metadata": {},
   "outputs": [
    {
     "name": "stdout",
     "output_type": "stream",
     "text": [
      "1987--Ackland-G-J--Ag--LAMMPS--ipr2\n",
      "mass 1 107.8682\n",
      "\n",
      "pair_style eam/fs\n",
      "pair_coeff * * 1987--Ackland-G-J--Ag--LAMMPS--ipr2\\Ag_v2.eam.fs Ag\n",
      "\n"
     ]
    }
   ],
   "source": [
    "potential = am.load_lammps_potential(id=pot_ids[3], get_files=True, database=db)\n",
    "print(potential)\n",
    "print(potential.pair_info('Ag'))"
   ]
  },
  {
   "cell_type": "markdown",
   "metadata": {},
   "source": [
    "## Load crystal\n",
    "\n",
    "This searches the 25,000+ unique relaxed crystals in the database, allowing users to find potential-specific equilibrium parameters."
   ]
  },
  {
   "cell_type": "code",
   "execution_count": 7,
   "metadata": {},
   "outputs": [
    {
     "name": "stdout",
     "output_type": "stream",
     "text": [
      "Multiple matching relaxed crystals found.\n",
      "#  family               symbols  alat    Ecoh    \n",
      " 1 A1--Cu--fcc          Ag        4.0860 -2.9674 \n",
      " 2 A3'--alpha-La--doubl Ag        2.8814 -2.9648 \n",
      " 3 mp-989737            Ag        2.8802 -2.9643 \n",
      " 4 mp-10597             Ag        2.8773 -2.9631 \n",
      " 5 A2--W--bcc           Ag        3.3179 -2.9288 \n",
      " 6 A15--beta-W          Ag        5.2771 -2.8978 \n",
      " 7 oqmd-1214769         Ag       10.2374 -2.8851 \n",
      " 8 A4--C--dc            Ag        6.5986 -1.9126 \n",
      "Select which one: 1\n",
      "avect =  [ 4.086,  0.000,  0.000]\n",
      "bvect =  [ 0.000,  4.086,  0.000]\n",
      "cvect =  [ 0.000,  0.000,  4.086]\n",
      "origin = [ 0.000,  0.000,  0.000]\n",
      "natoms = 4\n",
      "natypes = 1\n",
      "symbols = ('Ag',)\n",
      "pbc = [ True  True  True]\n",
      "per-atom properties = ['atype', 'pos']\n",
      "     id |   atype |  pos[0] |  pos[1] |  pos[2]\n",
      "      0 |       1 |   0.000 |   0.000 |   0.000\n",
      "      1 |       1 |   0.000 |   2.043 |   2.043\n",
      "      2 |       1 |   2.043 |   0.000 |   2.043\n",
      "      3 |       1 |   2.043 |   2.043 |   0.000\n"
     ]
    }
   ],
   "source": [
    "ucell = am.load('crystal', potential=potential,\n",
    "                symbols='Ag',\n",
    "                #family='A1--Cu--fcc',\n",
    "               )\n",
    "print(ucell)"
   ]
  },
  {
   "cell_type": "markdown",
   "metadata": {},
   "source": [
    "## Get elastic constants"
   ]
  },
  {
   "cell_type": "markdown",
   "metadata": {},
   "source": [
    "__WARNING:__ The following function is a quick and dirty (20 min) method for extracting elastic constants from the database.  A better, more robust method should replace this later...   "
   ]
  },
  {
   "cell_type": "code",
   "execution_count": 8,
   "metadata": {},
   "outputs": [],
   "source": [
    "def get_elastic_constants(potential, prototype, composition, strain=1e-8, database=None):\n",
    "    \"\"\"\n",
    "    Quick, dirty, temporary function for fetching elastic constants. Should use calculation results, when they\n",
    "    go up.\n",
    "    \"\"\"\n",
    "    if database is None:\n",
    "        database = am.library.Database()\n",
    "    \n",
    "    # Fetch the compiled properties record for the potential\n",
    "    properties = database.get_record(title=f'properties.{potential.id}')\n",
    "    \n",
    "    # Search the record for elastic constants computed for the composition, prototype, and strain  \n",
    "    comp = properties['per-potential-properties']['elastic-constants'].find('compositions', yes={'composition':'Ag'})\n",
    "    proto = comp.find('prototypes', yes={'prototype':'A1--Cu--fcc'})\n",
    "    matches = []\n",
    "    for m in proto.finds('measurement', yes={'strain':strain}):\n",
    "        Cij = uc.set_in_units(np.array([[m['C11'], m['C12'], m['C13'], m['C14'], m['C15'], m['C16']],\n",
    "                                        [m['C21'], m['C22'], m['C23'], m['C24'], m['C25'], m['C26']],\n",
    "                                        [m['C31'], m['C32'], m['C33'], m['C34'], m['C35'], m['C36']],\n",
    "                                        [m['C41'], m['C42'], m['C43'], m['C44'], m['C45'], m['C46']],\n",
    "                                        [m['C51'], m['C52'], m['C53'], m['C54'], m['C55'], m['C56']],\n",
    "                                        [m['C61'], m['C62'], m['C63'], m['C64'], m['C65'], m['C66']]]), 'GPa')\n",
    "        \n",
    "        # Try creating an ElasticConstants object. May fail if Cij is not symmetric \n",
    "        try:    \n",
    "            matches.append(am.ElasticConstants(Cij=Cij))\n",
    "        except:\n",
    "            pass\n",
    "        \n",
    "    if len(matches) == 0:\n",
    "        raise ValueError('No (good) matching elastic constants found')\n",
    "    \n",
    "    return matches"
   ]
  },
  {
   "cell_type": "code",
   "execution_count": 9,
   "metadata": {},
   "outputs": [
    {
     "name": "stdout",
     "output_type": "stream",
     "text": [
      "[[124.119  93.468  93.468   0.      0.      0.   ]\n",
      " [ 93.468 124.119  93.468   0.      0.      0.   ]\n",
      " [ 93.468  93.468 124.119   0.      0.      0.   ]\n",
      " [  0.      0.      0.     46.157   0.      0.   ]\n",
      " [  0.      0.      0.      0.     46.157   0.   ]\n",
      " [  0.      0.      0.      0.      0.     46.157]]\n",
      "\n"
     ]
    }
   ],
   "source": [
    "elastic_constants = get_elastic_constants(potential, 'A1--Cu--fcc', 'Ag')\n",
    "\n",
    "for elastic in elastic_constants:\n",
    "    print(uc.get_in_units(elastic.Cij, 'GPa'))\n",
    "    print()"
   ]
  },
  {
   "cell_type": "code",
   "execution_count": 10,
   "metadata": {},
   "outputs": [],
   "source": [
    "C = elastic_constants[0]"
   ]
  },
  {
   "cell_type": "markdown",
   "metadata": {},
   "source": [
    "- - -"
   ]
  },
  {
   "cell_type": "markdown",
   "metadata": {},
   "source": [
    "## Specify dislocation parameters\n",
    "\n",
    "The dislocation is characterized by Miller planes and vectors wrt to the unit cell selected above:\n",
    "- burgers is the Miller Burgers vector\n",
    "- slip_hkl is the Miller slip plane\n",
    "- ξ_uvw is the Miller line vector\n",
    "\n",
    "The orientation of the dislocation also needs to be defined relative to the atomic configuration:\n",
    "- m defines the Cartesian direction that is in the slip plane and normal to the line vector, ξ\n",
    "- n defines the Cartesian direction for the slip plane normal"
   ]
  },
  {
   "cell_type": "code",
   "execution_count": 11,
   "metadata": {},
   "outputs": [],
   "source": [
    "# Parameters for a/2<10-1>{111} fcc dislocations\n",
    "burgers = 0.5 * np.array([1, 0, -1]) \n",
    "slip_hkl = np.array([1, 1, 1])\n",
    "\n",
    "# Line direction determines dislocation character\n",
    "ξ_uvw = [ 1,-2, 1] # 90 degree edge\n",
    "#ξ_uvw = [1, -1, 0] # 60 degree mixed\n",
    "#ξ_uvw = [1, 1, -2] # 30 degree mixed\n",
    "#ξ_uvw = [1, 0, -1] # 0 degree screw\n",
    "\n",
    "# System orientations\n",
    "m = [0, 1, 0] # y-axis\n",
    "n = [0, 0, 1] # z-axis"
   ]
  },
  {
   "cell_type": "markdown",
   "metadata": {},
   "source": [
    "## Get elastic dislocation solution\n",
    "\n",
    "\n",
    "This will obtain an elastic solution for a Volterra (perfectly straight, no stacking fault) dislocation.  If the elastic constants given are anisotropic, then the solution will use the Stroh method.  If the elastic constants are isotropic, then the analytical solution found in dislocation theory books will be used. "
   ]
  },
  {
   "cell_type": "code",
   "execution_count": 12,
   "metadata": {},
   "outputs": [
    {
     "name": "stdout",
     "output_type": "stream",
     "text": [
      "Dislocation configuration:\n",
      "m:         [0. 1. 0.]\n",
      "n:         [0. 0. 1.]\n",
      "ξ:         [1. 0. 0.]\n",
      "Burgers:   [0.         2.88923872 0.        ] angstrom\n",
      "|Burgers|: 2.889238723270701 angstrom\n",
      "Character: 90.0 degrees\n",
      "\n",
      "Transformation matrix from standard orientation to dislocation orientation:\n",
      "[[ 0.40824829 -0.81649658  0.40824829]\n",
      " [ 0.70710678  0.         -0.70710678]\n",
      " [ 0.57735027  0.57735027  0.57735027]]\n"
     ]
    }
   ],
   "source": [
    "solution = am.defect.solve_volterra_dislocation(C,\n",
    "                                                burgers,\n",
    "                                                ξ_uvw=ξ_uvw,\n",
    "                                                slip_hkl=slip_hkl,\n",
    "                                                box=ucell.box,\n",
    "                                                m=m, n=n)\n",
    "\n",
    "print('Dislocation configuration:')\n",
    "print('m:        ', solution.m)\n",
    "print('n:        ', solution.n)\n",
    "print('ξ:        ', solution.ξ)\n",
    "print('Burgers:  ', uc.get_in_units(solution.burgers, 'angstrom'), 'angstrom')\n",
    "print('|Burgers|:', uc.get_in_units(np.linalg.norm(solution.burgers), 'angstrom'), 'angstrom')\n",
    "print('Character:', solution.characterangle(), 'degrees')\n",
    "print()\n",
    "print('Transformation matrix from standard orientation to dislocation orientation:')\n",
    "print(solution.transform)"
   ]
  },
  {
   "cell_type": "markdown",
   "metadata": {},
   "source": [
    "## Build periodic array of dislocations"
   ]
  },
  {
   "cell_type": "markdown",
   "metadata": {},
   "source": [
    "Rotate the unit cell to correspond to the dislocation solution's orientation"
   ]
  },
  {
   "cell_type": "code",
   "execution_count": 13,
   "metadata": {},
   "outputs": [
    {
     "name": "stdout",
     "output_type": "stream",
     "text": [
      "[[ 1. -2.  1.]\n",
      " [ 1.  0. -1.]\n",
      " [ 1.  1.  1.]]\n",
      "avect =  [10.009,  0.000,  0.000]\n",
      "bvect =  [ 0.000,  5.778,  0.000]\n",
      "cvect =  [ 0.000,  0.000,  7.077]\n",
      "origin = [ 0.000,  0.000,  0.000]\n",
      "natoms = 24\n",
      "natypes = 1\n",
      "symbols = ('Ag',)\n",
      "pbc = [ True  True  True]\n",
      "per-atom properties = ['atype', 'pos']\n",
      "     id |   atype |  pos[0] |  pos[1] |  pos[2]\n",
      "      0 |       1 |   2.502 |   4.334 |   5.898\n",
      "      1 |       1 |  10.009 |   2.889 |   5.898\n",
      "      2 |       1 |   7.506 |   1.445 |   5.898\n",
      "      3 |       1 |   7.506 |   4.334 |   5.898\n",
      "      4 |       1 |   9.175 |   4.334 |   1.180\n",
      "      5 |       1 |   5.004 |   5.778 |   5.898\n",
      "      6 |       1 |   2.502 |   1.445 |   5.898\n",
      "      7 |       1 |   5.004 |   2.889 |   5.898\n",
      "      8 |       1 |   4.170 |   1.445 |   1.180\n",
      "      9 |       1 |   6.672 |   2.889 |   1.180\n",
      "     10 |       1 |   4.170 |   4.334 |   1.180\n",
      "     11 |       1 |   5.838 |   4.334 |   3.539\n",
      "     12 |       1 |  10.009 |   0.000 |   5.898\n",
      "     13 |       1 |   1.668 |   5.778 |   1.180\n",
      "     14 |       1 |   1.668 |   2.889 |   1.180\n",
      "     15 |       1 |   0.834 |   1.445 |   3.539\n",
      "     16 |       1 |   3.336 |   2.889 |   3.539\n",
      "     17 |       1 |   0.834 |   4.334 |   3.539\n",
      "     18 |       1 |   9.175 |   1.445 |   1.180\n",
      "     19 |       1 |   6.672 |   5.778 |   1.180\n",
      "     20 |       1 |   8.341 |   0.000 |   3.539\n",
      "     21 |       1 |   5.838 |   1.445 |   3.539\n",
      "     22 |       1 |   8.341 |   2.889 |   3.539\n",
      "     23 |       1 |   3.336 |   5.778 |   3.539\n"
     ]
    }
   ],
   "source": [
    "uvws = am.defect.dislocation_system_basis(ξ_uvw, slip_hkl, m=m, n=n, box=ucell.box)\n",
    "print(uvws)\n",
    "rcell = ucell.rotate(uvws)\n",
    "\n",
    "# Apply a shift so no atoms at z=0.0\n",
    "rcell.atoms.pos[:, 2] -= 3**0.5 / 6 * ucell.box.a\n",
    "rcell.wrap()\n",
    "print(rcell)"
   ]
  },
  {
   "cell_type": "markdown",
   "metadata": {},
   "source": [
    "Generate a larger system from the rotated cell"
   ]
  },
  {
   "cell_type": "code",
   "execution_count": 14,
   "metadata": {},
   "outputs": [
    {
     "name": "stdout",
     "output_type": "stream",
     "text": [
      "7200 atoms in system\n"
     ]
    },
    {
     "data": {
      "text/plain": [
       "[<matplotlib.lines.Line2D at 0x2087f4a5d88>]"
      ]
     },
     "execution_count": 14,
     "metadata": {},
     "output_type": "execute_result"
    },
    {
     "data": {
      "image/png": "[encoded data removed]",
      "text/plain": [
       "<Figure size 1152x576 with 1 Axes>"
      ]
     },
     "metadata": {
      "needs_background": "light"
     },
     "output_type": "display_data"
    }
   ],
   "source": [
    "system = rcell.supersize(1, (-15, 15), (-5, 5)) # Way too small, only for demo purposes\n",
    "print(system.natoms, 'atoms in system')\n",
    "fig = plt.figure(figsize=(16,8))\n",
    "plt.plot(system.atoms.pos[:, 1], system.atoms.pos[:, 2], 'o')"
   ]
  },
  {
   "cell_type": "markdown",
   "metadata": {},
   "source": [
    "Insert a dislocation into the system - atoms may be deleted if the dislocation has an edge component"
   ]
  },
  {
   "cell_type": "code",
   "execution_count": 15,
   "metadata": {},
   "outputs": [
    {
     "name": "stdout",
     "output_type": "stream",
     "text": [
      "7140 atoms in dislocation system\n"
     ]
    },
    {
     "data": {
      "text/plain": [
       "[<matplotlib.lines.Line2D at 0x2087f535848>]"
      ]
     },
     "execution_count": 15,
     "metadata": {},
     "output_type": "execute_result"
    },
    {
     "data": {
      "image/png": "[encoded data removed]",
      "text/plain": [
       "<Figure size 1152x576 with 1 Axes>"
      ]
     },
     "metadata": {
      "needs_background": "light"
     },
     "output_type": "display_data"
    }
   ],
   "source": [
    "dislsystem = am.defect.dislocation_array(system, solution, cutoff=1)\n",
    "print(dislsystem.natoms, 'atoms in dislocation system')\n",
    "fig = plt.figure(figsize=(16,8))\n",
    "plt.plot(dislsystem.atoms.pos[:, 1], dislsystem.atoms.pos[:, 2], 'o')"
   ]
  },
  {
   "cell_type": "markdown",
   "metadata": {},
   "source": [
    "## Build bigger system"
   ]
  },
  {
   "cell_type": "code",
   "execution_count": 16,
   "metadata": {},
   "outputs": [
    {
     "name": "stdout",
     "output_type": "stream",
     "text": [
      "153600 atoms in system\n",
      "153360 atoms in dislocation system\n"
     ]
    }
   ],
   "source": [
    "system = rcell.supersize(1, (-80, 80), (-20, 20))\n",
    "print(system.natoms, 'atoms in system')\n",
    "\n",
    "dislsystem = am.defect.dislocation_array(system, solution)\n",
    "print(dislsystem.natoms, 'atoms in dislocation system')"
   ]
  },
  {
   "cell_type": "code",
   "execution_count": 17,
   "metadata": {},
   "outputs": [
    {
     "name": "stdout",
     "output_type": "stream",
     "text": [
      "5104 atoms below lower boundary plane\n",
      "5120 atoms above upper boundary plane\n"
     ]
    }
   ],
   "source": [
    "# Change atom types for boundary atoms\n",
    "bwidth = 10\n",
    "zlo = dislsystem.box.zlo + bwidth\n",
    "zhi = dislsystem.box.zhi - bwidth\n",
    "\n",
    "plane1 = am.region.Plane(normal=[0, 0, 1], point=[0, 0, zlo])\n",
    "plane2 = am.region.Plane(normal=[0, 0, 1], point=[0, 0, zhi])\n",
    "\n",
    "print(plane1.below(dislsystem.atoms.pos).sum(), 'atoms below lower boundary plane')\n",
    "print(plane2.above(dislsystem.atoms.pos).sum(), 'atoms above upper boundary plane')\n",
    "\n",
    "dislsystem.atoms.atype[plane1.below(dislsystem.atoms.pos)\n",
    "                      |plane2.above(dislsystem.atoms.pos)] = 2\n",
    "dislsystem.symbols = system.symbols*2"
   ]
  },
  {
   "cell_type": "code",
   "execution_count": 18,
   "metadata": {},
   "outputs": [
    {
     "data": {
      "text/plain": [
       "[<matplotlib.lines.Line2D at 0x2087f595b48>]"
      ]
     },
     "execution_count": 18,
     "metadata": {},
     "output_type": "execute_result"
    },
    {
     "data": {
      "image/png": "[encoded data removed]",
      "text/plain": [
       "<Figure size 1152x576 with 1 Axes>"
      ]
     },
     "metadata": {
      "needs_background": "light"
     },
     "output_type": "display_data"
    }
   ],
   "source": [
    "fig = plt.figure(figsize=(16,8))\n",
    "plt.plot(dislsystem.atoms.pos[dislsystem.atoms.atype==1, 1], dislsystem.atoms.pos[dislsystem.atoms.atype==1, 2], 'o')\n",
    "plt.plot(dislsystem.atoms.pos[dislsystem.atoms.atype==2, 1], dislsystem.atoms.pos[dislsystem.atoms.atype==2, 2], 'o')"
   ]
  },
  {
   "cell_type": "markdown",
   "metadata": {},
   "source": [
    "## Relax in LAMMPS"
   ]
  },
  {
   "cell_type": "markdown",
   "metadata": {},
   "source": [
    "Define a template LAMMPS script"
   ]
  },
  {
   "cell_type": "code",
   "execution_count": 19,
   "metadata": {},
   "outputs": [],
   "source": [
    "template = \"\"\"\n",
    "<atomman_system_pair_info>\n",
    "\n",
    "# Type 2 atoms are the fixed boundary atoms\n",
    "group bounds type 2\n",
    "\n",
    "compute peatom all pe/atom\n",
    "\n",
    "dump first all custom <maxeval> *.dump id type x y z c_peatom\n",
    "dump_modify first format float %.13e\n",
    "thermo_style custom step pe\n",
    "\n",
    "fix boundary bounds setforce 0.0 0.0 0.0\n",
    "\n",
    "min_modify dmax <dmax>\n",
    "\n",
    "minimize <etol> <ftol> <maxiter> <maxeval>\n",
    "\"\"\""
   ]
  },
  {
   "cell_type": "markdown",
   "metadata": {},
   "source": [
    "Set input parameters"
   ]
  },
  {
   "cell_type": "code",
   "execution_count": 20,
   "metadata": {},
   "outputs": [
    {
     "name": "stdout",
     "output_type": "stream",
     "text": [
      "\n",
      "# Script and atom data file prepared using atomman Python package\n",
      "\n",
      "units metal\n",
      "atom_style atomic\n",
      "\n",
      "boundary p p m\n",
      "read_data init.dat\n",
      "\n",
      "mass 1 107.8682\n",
      "mass 2 107.8682\n",
      "\n",
      "pair_style eam/fs\n",
      "pair_coeff * * 1987--Ackland-G-J--Ag--LAMMPS--ipr2\\Ag_v2.eam.fs Ag Ag\n",
      "\n",
      "\n",
      "# Type 2 atoms are the fixed boundary atoms\n",
      "group bounds type 2\n",
      "\n",
      "compute peatom all pe/atom\n",
      "\n",
      "dump first all custom 1000000 *.dump id type x y z c_peatom\n",
      "dump_modify first format float %.13e\n",
      "thermo_style custom step pe\n",
      "\n",
      "fix boundary bounds setforce 0.0 0.0 0.0\n",
      "\n",
      "min_modify dmax 0.01\n",
      "\n",
      "minimize 0.0 1e-08 100000 1000000\n",
      "\n"
     ]
    }
   ],
   "source": [
    "lammps_parameters = {}\n",
    "\n",
    "# Minimization parameters\n",
    "lammps_parameters['dmax'] = uc.set_in_units(0.01, 'angstrom')\n",
    "lammps_parameters['etol'] = 0.0\n",
    "lammps_parameters['ftol'] = 1e-8\n",
    "lammps_parameters['maxiter'] = 100000\n",
    "lammps_parameters['maxeval'] = 1000000\n",
    "\n",
    "# Save structure as data file, generate potential and load commands\n",
    "system_info = dislsystem.dump('atom_data', f='init.dat',\n",
    "                          potential=potential,\n",
    "                          return_pair_info=True)\n",
    "lammps_parameters['atomman_system_pair_info'] = system_info\n",
    "\n",
    "# Fill template\n",
    "lammps_script = am.tools.filltemplate(template, lammps_parameters, '<', '>')\n",
    "with open('relax.in', 'w') as f:\n",
    "    f.write(lammps_script)\n",
    "print(lammps_script)"
   ]
  },
  {
   "cell_type": "markdown",
   "metadata": {},
   "source": [
    "Run"
   ]
  },
  {
   "cell_type": "code",
   "execution_count": 21,
   "metadata": {},
   "outputs": [
    {
     "data": {
      "text/html": [
       "<div>\n",
       "<style scoped>\n",
       "    .dataframe tbody tr th:only-of-type {\n",
       "        vertical-align: middle;\n",
       "    }\n",
       "\n",
       "    .dataframe tbody tr th {\n",
       "        vertical-align: top;\n",
       "    }\n",
       "\n",
       "    .dataframe thead th {\n",
       "        text-align: right;\n",
       "    }\n",
       "</style>\n",
       "<table border=\"1\" class=\"dataframe\">\n",
       "  <thead>\n",
       "    <tr style=\"text-align: right;\">\n",
       "      <th></th>\n",
       "      <th>Step</th>\n",
       "      <th>PotEng</th>\n",
       "    </tr>\n",
       "  </thead>\n",
       "  <tbody>\n",
       "    <tr>\n",
       "      <td>0</td>\n",
       "      <td>0</td>\n",
       "      <td>-454165.53</td>\n",
       "    </tr>\n",
       "    <tr>\n",
       "      <td>1</td>\n",
       "      <td>1123</td>\n",
       "      <td>-454351.05</td>\n",
       "    </tr>\n",
       "  </tbody>\n",
       "</table>\n",
       "</div>"
      ],
      "text/plain": [
       "   Step     PotEng\n",
       "0     0 -454165.53\n",
       "1  1123 -454351.05"
      ]
     },
     "execution_count": 21,
     "metadata": {},
     "output_type": "execute_result"
    }
   ],
   "source": [
    "log = lmp.run('lmp_mpi', \n",
    "              'relax.in', \n",
    "              mpi_command='C:/Program Files/MPICH2/bin/mpiexec -localonly 6')\n",
    "log.simulations[0]['thermo']"
   ]
  },
  {
   "cell_type": "code",
   "execution_count": 22,
   "metadata": {},
   "outputs": [],
   "source": [
    "# Load relaxed system\n",
    "fstep = log.simulations[0]['thermo'].Step.values[-1]\n",
    "relaxedsystem = am.load('atom_dump', f'{fstep}.dump')"
   ]
  },
  {
   "cell_type": "markdown",
   "metadata": {},
   "source": [
    "Compute disregistry"
   ]
  },
  {
   "cell_type": "code",
   "execution_count": 23,
   "metadata": {},
   "outputs": [],
   "source": [
    "# modsystem is the original perfect system without the deleted atoms\n",
    "modsystem = system.atoms_ix[dislsystem.atoms.old_id]"
   ]
  },
  {
   "cell_type": "code",
   "execution_count": 24,
   "metadata": {},
   "outputs": [
    {
     "data": {
      "text/plain": [
       "[<matplotlib.lines.Line2D at 0x208021253c8>]"
      ]
     },
     "execution_count": 24,
     "metadata": {},
     "output_type": "execute_result"
    },
    {
     "data": {
      "image/png": "[encoded data removed]",
      "text/plain": [
       "<Figure size 1152x576 with 1 Axes>"
      ]
     },
     "metadata": {
      "needs_background": "light"
     },
     "output_type": "display_data"
    }
   ],
   "source": [
    "x, disregistry = am.defect.disregistry(modsystem, relaxedsystem, solution.m, solution.n)\n",
    "fig = plt.figure(figsize=(16,8))\n",
    "plt.plot(x, disregistry[:, 1])\n",
    "plt.plot(x, disregistry[:, 0])"
   ]
  },
  {
   "cell_type": "markdown",
   "metadata": {},
   "source": [
    "Calculate Nye tensor"
   ]
  },
  {
   "cell_type": "code",
   "execution_count": 25,
   "metadata": {},
   "outputs": [],
   "source": [
    "cutoff = ucell.box.a * 0.9\n",
    "p_vectors = nye = am.defect.nye_tensor_p(modsystem, cutoff=cutoff)\n",
    "nye = am.defect.nye_tensor(relaxedsystem, p_vectors, cutoff=cutoff)\n",
    "\n",
    "nye_xx = nye['Nye_tensor'][:, 0, 0]\n",
    "nye_xy = nye['Nye_tensor'][:, 0, 1]\n",
    "nye_xz = nye['Nye_tensor'][:, 0, 2]\n",
    "nye_max = np.abs(np.hstack([nye_xx, nye_xy, nye_xz])).max()"
   ]
  },
  {
   "cell_type": "markdown",
   "metadata": {},
   "source": [
    "Plot Nye tensor"
   ]
  },
  {
   "cell_type": "code",
   "execution_count": 26,
   "metadata": {},
   "outputs": [
    {
     "data": {
      "image/png": "[encoded data removed]",
      "text/plain": [
       "<Figure size 1152x576 with 1 Axes>"
      ]
     },
     "metadata": {
      "needs_background": "light"
     },
     "output_type": "display_data"
    }
   ],
   "source": [
    "fig = plt.figure(figsize=(16,8))\n",
    "plt.scatter(dislsystem.atoms.pos[:, 1], dislsystem.atoms.pos[:, 2], c=nye_xx, cmap='bwr', vmin=-nye_max, vmax=nye_max)\n",
    "plt.show()"
   ]
  },
  {
   "cell_type": "code",
   "execution_count": 27,
   "metadata": {},
   "outputs": [
    {
     "data": {
      "image/png": "[encoded data removed]",
      "text/plain": [
       "<Figure size 1152x576 with 1 Axes>"
      ]
     },
     "metadata": {
      "needs_background": "light"
     },
     "output_type": "display_data"
    }
   ],
   "source": [
    "fig = plt.figure(figsize=(16,8))\n",
    "plt.scatter(dislsystem.atoms.pos[:, 1], dislsystem.atoms.pos[:, 2], c=nye_xy, cmap='bwr', vmin=-nye_max, vmax=nye_max)\n",
    "plt.show()"
   ]
  },
  {
   "cell_type": "code",
   "execution_count": 28,
   "metadata": {},
   "outputs": [
    {
     "data": {
      "image/png": "[encoded data removed]",
      "text/plain": [
       "<Figure size 1152x576 with 1 Axes>"
      ]
     },
     "metadata": {
      "needs_background": "light"
     },
     "output_type": "display_data"
    }
   ],
   "source": [
    "fig = plt.figure(figsize=(16,8))\n",
    "plt.scatter(dislsystem.atoms.pos[:, 1], dislsystem.atoms.pos[:, 2], c=nye_xz, cmap='bwr', vmin=-nye_max, vmax=nye_max)\n",
    "plt.show()"
   ]
  }
 ],
 "metadata": {
  "kernelspec": {
   "display_name": "Python 3",
   "language": "python",
   "name": "python3"
  },
  "language_info": {
   "codemirror_mode": {
    "name": "ipython",
    "version": 3
   },
   "file_extension": ".py",
   "mimetype": "text/x-python",
   "name": "python",
   "nbconvert_exporter": "python",
   "pygments_lexer": "ipython3",
   "version": "3.7.4"
  }
 },
 "nbformat": 4,
 "nbformat_minor": 2
}
